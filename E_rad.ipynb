{
 "cells": [
  {
   "cell_type": "code",
   "execution_count": 1,
   "id": "fdcf658d-abfc-4d7b-8400-424d77e70d32",
   "metadata": {},
   "outputs": [
    {
     "data": {
      "text/html": [
       "<div>\n",
       "<style scoped>\n",
       "    .dataframe tbody tr th:only-of-type {\n",
       "        vertical-align: middle;\n",
       "    }\n",
       "\n",
       "    .dataframe tbody tr th {\n",
       "        vertical-align: top;\n",
       "    }\n",
       "\n",
       "    .dataframe thead th {\n",
       "        text-align: right;\n",
       "    }\n",
       "</style>\n",
       "<table border=\"1\" class=\"dataframe\">\n",
       "  <thead>\n",
       "    <tr style=\"text-align: right;\">\n",
       "      <th></th>\n",
       "      <th>0</th>\n",
       "      <th>1</th>\n",
       "    </tr>\n",
       "  </thead>\n",
       "  <tbody>\n",
       "    <tr>\n",
       "      <th>0</th>\n",
       "      <td>0.300000</td>\n",
       "      <td>0.893202</td>\n",
       "    </tr>\n",
       "    <tr>\n",
       "      <th>1</th>\n",
       "      <td>0.303857</td>\n",
       "      <td>0.867307</td>\n",
       "    </tr>\n",
       "    <tr>\n",
       "      <th>2</th>\n",
       "      <td>0.303867</td>\n",
       "      <td>0.851418</td>\n",
       "    </tr>\n",
       "    <tr>\n",
       "      <th>3</th>\n",
       "      <td>0.303876</td>\n",
       "      <td>0.837516</td>\n",
       "    </tr>\n",
       "    <tr>\n",
       "      <th>4</th>\n",
       "      <td>0.305241</td>\n",
       "      <td>0.807718</td>\n",
       "    </tr>\n",
       "  </tbody>\n",
       "</table>\n",
       "</div>"
      ],
      "text/plain": [
       "          0         1\n",
       "0  0.300000  0.893202\n",
       "1  0.303857  0.867307\n",
       "2  0.303867  0.851418\n",
       "3  0.303876  0.837516\n",
       "4  0.305241  0.807718"
      ]
     },
     "execution_count": 1,
     "metadata": {},
     "output_type": "execute_result"
    }
   ],
   "source": [
    "import pandas as pd\n",
    "import numpy as np\n",
    "import math\n",
    "from math import cos, sin, pi\n",
    "\n",
    "df_T = pd.read_csv('data/T_amb.csv', header=None)       # 辐射体温度/环境温度\n",
    "df_e = pd.read_csv('data/cooler.csv', header=None)        # 辐射体发射率\n",
    "df_a = pd.read_csv('data/cooler.csv', header=None)        # 辐射体吸收率\n",
    "df_cc = pd.read_csv('data/cc.csv', header=None)        # 云层覆盖率\n",
    "df_trans = pd.read_csv('data/trans.csv', header=None)        # 大气透过率\n",
    "T_C = 0.9   # PE膜透过率\n",
    "\n",
    "df_e.head()"
   ]
  },
  {
   "cell_type": "code",
   "execution_count": 2,
   "id": "3b756bdc",
   "metadata": {},
   "outputs": [],
   "source": [
    "# 全天各时刻的辐射功率\n",
    "# 全天总功\n",
    "\n",
    "def n_I_BB(W:float,T:float)->float:\n",
    "    '''\n",
    "    计算黑体光谱辐射力\n",
    "    W:辐射体波长\n",
    "    T:辐射体温度\n",
    "    '''\n",
    "    C_1 = 3.743e8\n",
    "    C_2 = 1.439e4\n",
    "    return (C_1 * W ** (-5) ) / (np.exp(C_2 / (W * T)) -1)\n",
    "\n",
    "def P_rad(T1:float)->float:\n",
    "    '''\n",
    "    计算辐射功率\n",
    "    T1:辐射体温度\n",
    "    调用n_I_BB函数通过辐射体波长和温度计算黑体光谱辐射力，再乘以辐射体发射率、波长差与透过率，最后求和\n",
    "    输出单个时间点的全波段辐射功率\n",
    "    '''\n",
    "    np_df_e = np.array(df_e)\n",
    "    W = np.array(df_e.iloc[:-1,0]).reshape(1319,)      #辐射体发射率对应的波长\n",
    "    T = np.full((1319,),T1)       # 辐射体温度\n",
    "    t_c = np.full((1319,),T_C)     # PE膜透过率0.9\n",
    "    delta_W = np_df_e[1:,0] - np_df_e[:-1,0]    # 前后项波长差\n",
    "    np_cooler = np.array(df_e.iloc[:-1,1])        # 辐射体发射率\n",
    "    rad = np.apply_along_axis(n_I_BB,0,W,T) * np_cooler * delta_W * t_c # 计算辐射力*辐射体发射率*波长差*PE膜透过率 需要保持维度一致\n",
    "    return rad.sum()\n",
    "\n",
    "def E_rad(delta_t:int = 60, is_sum:bool = False) -> list :\n",
    "    '''\n",
    "    is_sum = True 返回总辐射功率\n",
    "    is_sum = False 返回每个时间点的辐射功率\n",
    "    delta_t = 60 为默认时间间隔(s),当delta_t = 1时,返回瞬时辐射功率\n",
    "    '''\n",
    "    P_list = []\n",
    "    np_df_T = np.array(df_T)\n",
    "    for i in range(len(np_df_T[:,1])):\n",
    "        if np_df_T[i,1] < np_df_T[i,2]:            # 比较辐射体温度与环境温度大小\n",
    "            P_list.append(P_rad(np_df_T[i,1]))        # 若辐射体温度＜环境温度，则计算制冷功率\n",
    "        else:\n",
    "            P_list.append(0)                          # 若辐射体温度＞环境温度，则制冷功率为0\n",
    "\n",
    "    # 进行向量化计算\n",
    "    P_list = np.array(P_list)\n",
    "    delta_t = np.full((len(P_list),), delta_t)\n",
    "    P_list = P_list * delta_t\n",
    "    \n",
    "    if is_sum:\n",
    "        return [sum(P_list)]\n",
    "    else:\n",
    "        return P_list\n"
   ]
  },
  {
   "cell_type": "code",
   "execution_count": 3,
   "id": "8c0044a2",
   "metadata": {},
   "outputs": [],
   "source": [
    "a = E_rad(delta_t = 1,is_sum=False)"
   ]
  },
  {
   "cell_type": "code",
   "execution_count": 4,
   "id": "639c17cc",
   "metadata": {},
   "outputs": [],
   "source": [
    "# 辐射体吸收的大气辐射功率\n",
    "DELTA_THETA = 1.0 # 角度间隔\n",
    "DELTA_TIME = 60.0 # 时间间隔\n",
    "T_C = 0.9   # PE膜透过率\n",
    "CC = 0.15  # 云层覆盖率\n",
    "E_CLOUD = 0.75 #云层发射率\n",
    "\n",
    "def P_atm(theta:float = 0,temperature:float = 300,is_summer:bool=True,is_sum:bool = True)->pd.DataFrame | float:\n",
    "    '''\n",
    "    计算辐射体吸收的大气辐射功率\n",
    "    theta:天顶角\n",
    "    temperature:大气温度\n",
    "    is_summer:是否为夏季\n",
    "    is_sum:是否为总功率\n",
    "    '''\n",
    "    alpha = np.array(df_a.iloc[:-1,1])\n",
    "    W1 = df_e.iloc[:-1,0].reset_index(drop=True)\n",
    "    W2 = df_e.iloc[1:,0].reset_index(drop=True)\n",
    "    delta_W = W2 - W1\n",
    "    E_lambda = np.apply_along_axis(n_I_BB,0,W1,temperature)\n",
    "    if is_summer:\n",
    "        t_atm = np.array(df_trans.iloc[:-1,1])\n",
    "    else:\n",
    "        t_atm = np.array(df_trans.iloc[:-1,2]) \n",
    "    args = np.full(t_atm.shape, fill_value=1/np.cos(theta/180*np.pi))\n",
    "    cos_sin = np.full(t_atm.shape, fill_value=np.cos(theta/180*np.pi)*np.sin(theta/180*np.pi))\n",
    "    cc = np.full(t_atm.shape, fill_value=CC)\n",
    "    E_atm = 1-(t_atm**args)\n",
    "    E_cloud = np.full(t_atm.shape, fill_value=E_CLOUD)*cc\n",
    "    result = (2*T_C*alpha*E_atm*(1-cc)+E_cloud*cc*E_lambda*cos_sin)*delta_W\n",
    "    res = pd.DataFrame(data = [W1,alpha,E_atm,1-cc,E_cloud,E_lambda,cos_sin,delta_W,result]).T\n",
    "    res.columns = ['lambda','alpha','E_atm','1-cc','E_cloud*CC','E_lambda','cos_sin','delta_lambda','result']\n",
    "    if is_sum:\n",
    "        return res['result'].sum()\n",
    "    else:\n",
    "        return res\n"
   ]
  },
  {
   "cell_type": "code",
   "execution_count": 5,
   "id": "35b1ea8c",
   "metadata": {},
   "outputs": [],
   "source": [
    "d_theta = np.arange(0,90,DELTA_THETA).reshape(-1,1)\n",
    "temperature = np.full(d_theta.shape, fill_value=300)\n",
    "a = np.apply_along_axis(P_atm,1,d_theta,300,is_sum=True).sum()"
   ]
  },
  {
   "cell_type": "code",
   "execution_count": 6,
   "id": "369c17dd",
   "metadata": {},
   "outputs": [],
   "source": [
    "a = np.apply_along_axis(P_atm,1,d_theta,df_T.iloc[0,1],is_sum=True).sum()*DELTA_TIME"
   ]
  },
  {
   "cell_type": "code",
   "execution_count": 8,
   "id": "f739e8a5",
   "metadata": {},
   "outputs": [],
   "source": [
    "res = []\n",
    "for i in range(len(df_T.iloc[:3,1])):\n",
    "    res.append(float(np.apply_along_axis(P_atm,1,d_theta,df_T.iloc[i,1],is_sum=True).sum()*DELTA_TIME))"
   ]
  },
  {
   "cell_type": "code",
   "execution_count": 10,
   "id": "82092a27",
   "metadata": {},
   "outputs": [
    {
     "data": {
      "text/plain": [
       "391621.06376323174"
      ]
     },
     "execution_count": 10,
     "metadata": {},
     "output_type": "execute_result"
    }
   ],
   "source": [
    "sum(res)"
   ]
  },
  {
   "cell_type": "code",
   "execution_count": null,
   "id": "54af8085",
   "metadata": {},
   "outputs": [],
   "source": [
    "def P_atm(T1):\n",
    "    np_df_a = np.array(df_a)\n",
    "    np_df_T = np.array(df_T)\n",
    "    np_df_t_atm = np.array(df_trans)\n",
    "    np_df_cc = np.array(df_cc)\n",
    "    W = np.array(df_e.iloc[:-1,0]).reshape(1319,)      # 辐射体发射率对应的波长\n",
    "    T = np.full((1319,),T1)       # 辐射体温度\n",
    "    t_c = np.full((1319,),0.9)     # PE膜透过率0.9\n",
    "    e_atm = 1 - np.array(df_trans.iloc[:-1,1]).reshape(1319,)\n",
    "    e_cloud = np.full((1319,),0.75)     # 云层发射率0.75\n",
    "    j = np.arange(0,18,1)\n",
    "    angle_cos = np.cos(j * pi / 18 / 2)\n",
    "    angle_sin = np.sin(j * pi / 18 / 2)\n",
    "    delta_angle = 5/180 * np.pi\n",
    "    delta_W = np_df_a[1:,0] - np_df_a[:-1,0]\n",
    "    np_cooler = np.array(df_a.iloc[:-1,1])        # 辐射体吸收率\n",
    "    np_cc = np.array(df_cc.iloc[:-1,1])\n",
    "    atm = np.apply_along_axis(n_I_BB,0,W,T) * np_cooler * (e_atm * (1 - np_cc) + e_cloud * np_cc) * angle_cos * angle_sin * delta_angle * delta_W * t_c * 2\n",
    "    return atm.sum()\n",
    "\n",
    "def E_atm(delta_t = 60, is_sum:bool = False) -> list :\n",
    "    '''\n",
    "    is_sum = True 返回总辐射功率\n",
    "    is_sum = False 返回每个时间点的辐射功率\n",
    "    delta_t = 60 为默认时间间隔(s),当delta_t = 1时,返回瞬时辐射功率\n",
    "    '''\n",
    "    P_list = []\n",
    "    np_df_e = np.array(df_e)\n",
    "    np_df_T = np.array(df_T)\n",
    "    for i in range(len(np_df_T[:,1])):\n",
    "        if np_df_T[i,1] < np_df_T[i,2]:\n",
    "            P_list.append(P_atm(np_df_T[i,2]))\n",
    "        else:\n",
    "            P_list.append(0)\n",
    "\n",
    "    # 进行向量化计算\n",
    "    P_list = np.array(P_list)\n",
    "    delta_t = np.full((len(P_list),), delta_t)\n",
    "    P_list = P_list * delta_t\n",
    "    \n",
    "    if is_sum:\n",
    "        return [sum(P_list)]\n",
    "    else:\n",
    "        return P_list\n",
    "\n",
    "print(pd.DataFrame(data = E_atm(delta_t = 60,is_sum=True), columns = ['P_atm day']))\n",
    "print(\"\\n\")\n",
    "print(pd.DataFrame(data = E_atm(delta_t = 1,is_sum=False), columns = ['P_atm minute']))"
   ]
  }
 ],
 "metadata": {
  "kernelspec": {
   "display_name": "rc_thermal",
   "language": "python",
   "name": "python3"
  },
  "language_info": {
   "codemirror_mode": {
    "name": "ipython",
    "version": 3
   },
   "file_extension": ".py",
   "mimetype": "text/x-python",
   "name": "python",
   "nbconvert_exporter": "python",
   "pygments_lexer": "ipython3",
   "version": "3.10.9"
  },
  "vscode": {
   "interpreter": {
    "hash": "494951290061e9cda7b650808cfea46b1c68ef021c7323d4c1d04367d6d79e5a"
   }
  }
 },
 "nbformat": 4,
 "nbformat_minor": 5
}
