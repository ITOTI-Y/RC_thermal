{
 "cells": [
  {
   "cell_type": "code",
   "execution_count": 1,
   "id": "fdcf658d-abfc-4d7b-8400-424d77e70d32",
   "metadata": {},
   "outputs": [],
   "source": [
    "import pandas as pd\n",
    "import numpy as np\n",
    "import math\n",
    "from math import cos, sin, pi\n",
    "\n",
    "df_T = pd.read_csv('data/T_amb.csv', header=None)       # 辐射体温度/环境温度\n",
    "df_e = pd.read_csv('data/cooler.csv', header=None)        # 辐射体发射率\n",
    "df_a = pd.read_csv('data/cooler.csv', header=None)        # 辐射体吸收率\n",
    "df_cc = pd.read_csv('data/cc.csv', header=None)        # 云层覆盖率\n",
    "df_trans = pd.read_csv('data/trans.csv', header=None)  \n",
    "\n",
    "################################ 常量定义 ################################\n",
    "DELTA_THETA = 1 # 角度间隔\n",
    "DELTA_TIME = 60.0 # 时间间隔\n",
    "T_C = 0.9   # PE膜透过率\n",
    "CC = 0.15  # 云层覆盖率\n",
    "E_CLOUD = 0.75 #云层发射率\n",
    "LAMBDA = df_e.iloc[:-1,0].values # 辐射体发射率对应的波长\n",
    "D_LAMBDA = df_e.iloc[1:,0].values - LAMBDA # 前后项波长差\n",
    "D_THETA = np.arange(0,90,DELTA_THETA) # 角度\n",
    "T_ATM = np.full(LAMBDA.shape, 300 ,dtype=np.float64) # 大气温度\n",
    "THETA = 5/180*np.pi # 太阳高度角\n",
    "CC = df_cc.iloc[:,1].values/100 # 云层覆盖率"
   ]
  },
  {
   "cell_type": "code",
   "execution_count": 2,
   "id": "3b756bdc",
   "metadata": {},
   "outputs": [],
   "source": [
    "\n",
    "def n_I_BB(W:float,T:float)->float:\n",
    "    '''\n",
    "    计算黑体光谱辐射力\n",
    "    W:辐射体波长\n",
    "    T:辐射体温度\n",
    "    '''\n",
    "    C_1 = 3.743e8\n",
    "    C_2 = 1.439e4\n",
    "    return (C_1 * W ** (-5) ) / (np.exp(C_2 / (W * T)) -1)\n",
    "\n",
    "def P_rad(T1:float = 300)->float:\n",
    "    '''\n",
    "    计算辐射功率\n",
    "    T1:辐射体温度\n",
    "    调用n_I_BB函数通过辐射体波长和温度计算黑体光谱辐射力，再乘以辐射体发射率、波长差与透过率，最后求和\n",
    "    输出单个时间点的全波段辐射功率\n",
    "    '''\n",
    "    np_df_e = np.array(df_e)\n",
    "    W = np.array(df_e.iloc[:-1,0]).reshape(1319,)      #辐射体发射率对应的波长\n",
    "    T = np.full((1319,),T1)       # 辐射体温度\n",
    "    t_c = np.full((1319,),T_C)     # PE膜透过率0.9\n",
    "    delta_W = np_df_e[1:,0] - np_df_e[:-1,0]    # 前后项波长差\n",
    "    np_cooler = np.array(df_e.iloc[:-1,1])        # 辐射体发射率\n",
    "    rad = np.apply_along_axis(n_I_BB,0,W,T) * np_cooler * delta_W * t_c # 计算辐射力*辐射体发射率*波长差*PE膜透过率 需要保持维度一致\n",
    "    return rad.sum()\n",
    "\n",
    "def E_rad(delta_t:int = 60, is_sum:bool = True, is_all = False) -> list :\n",
    "    '''\n",
    "    is_sum = True 返回总辐射功率\n",
    "    is_sum = False 返回每个时间点的辐射功率\n",
    "    delta_t = 60 为默认时间间隔(s),当delta_t = 1时,返回瞬时辐射功率\n",
    "    '''\n",
    "    P_list = []\n",
    "    np_df_T = np.array(df_T)\n",
    "    if is_all:\n",
    "        for i in range(len(np_df_T[:,1])):\n",
    "            P_list.append(P_rad(np_df_T[i,1]))\n",
    "    else: \n",
    "        for i in range(len(np_df_T[:,1])):\n",
    "            if np_df_T[i,1] < np_df_T[i,2]:            # 比较辐射体温度与环境温度大小\n",
    "                P_list.append(P_rad(np_df_T[i,1]))        # 若辐射体温度＜环境温度，则计算制冷功率\n",
    "            else:\n",
    "                P_list.append(0)                          # 若辐射体温度＞环境温度，则制冷功率为0\n",
    "\n",
    "    # 进行向量化计算\n",
    "    P_list = np.array(P_list)\n",
    "    delta_t = np.full((len(P_list),), delta_t)\n",
    "    P_list = P_list * delta_t\n",
    "    \n",
    "    if is_sum:\n",
    "        return sum(P_list)\n",
    "    else:\n",
    "        return P_list\n",
    "    \n",
    "\n",
    "def P_atm(theta = (5/180*np.pi),t_atm=300,is_test = False,is_sum = True):\n",
    "    alpha = np.array(df_a.iloc[:-1,1])\n",
    "    e_atm = 1-(np.array(df_trans.iloc[:-1,1]))**(1/np.cos(theta))\n",
    "    cc = np.full(alpha.shape,CC[0])\n",
    "    e_cloud = np.full(alpha.shape,E_CLOUD)\n",
    "    e_lambda = np.apply_along_axis(n_I_BB,0,LAMBDA,t_atm)\n",
    "    cos_sin = np.full(alpha.shape,np.cos(theta)*np.sin(theta))\n",
    "    args = e_atm*(1-cc)+cc*e_cloud\n",
    "    if is_test:\n",
    "        args = 1\n",
    "    if is_sum:\n",
    "        res = []\n",
    "        for j in D_THETA:\n",
    "            res.append(P_atm(j/180*np.pi,t_atm,is_test,is_sum=False)*DELTA_THETA/180*np.pi)\n",
    "        result = np.array(res).sum()*2*T_C\n",
    "        return result\n",
    "    return (alpha*(args)*e_lambda*D_LAMBDA*cos_sin).sum()\n",
    "\n",
    "\n",
    "def E_atm(is_test = False):\n",
    "    res = []\n",
    "    num = 2\n",
    "    if is_test:\n",
    "        num = 1\n",
    "    for i in df_T.iloc[:,num]:\n",
    "        res.append(P_atm(t_atm = i,is_test=is_test)*60)\n",
    "    return sum(res)"
   ]
  },
  {
   "cell_type": "code",
   "execution_count": 4,
   "id": "63a4af5d",
   "metadata": {},
   "outputs": [
    {
     "data": {
      "text/plain": [
       "(264.3381504291769, 204.99792704189915, 13563666.537712649, 11136288.17949053)"
      ]
     },
     "execution_count": 4,
     "metadata": {},
     "output_type": "execute_result"
    }
   ],
   "source": [
    "P_rad(),P_atm(),E_rad(),E_atm()"
   ]
  }
 ],
 "metadata": {
  "kernelspec": {
   "display_name": "rc_thermal",
   "language": "python",
   "name": "python3"
  },
  "language_info": {
   "codemirror_mode": {
    "name": "ipython",
    "version": 3
   },
   "file_extension": ".py",
   "mimetype": "text/x-python",
   "name": "python",
   "nbconvert_exporter": "python",
   "pygments_lexer": "ipython3",
   "version": "3.10.9"
  },
  "vscode": {
   "interpreter": {
    "hash": "494951290061e9cda7b650808cfea46b1c68ef021c7323d4c1d04367d6d79e5a"
   }
  }
 },
 "nbformat": 4,
 "nbformat_minor": 5
}
